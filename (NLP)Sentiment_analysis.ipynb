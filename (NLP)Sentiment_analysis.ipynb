{
  "nbformat": 4,
  "nbformat_minor": 0,
  "metadata": {
    "colab": {
      "provenance": [],
      "include_colab_link": true
    },
    "kernelspec": {
      "name": "python3",
      "display_name": "Python 3"
    },
    "language_info": {
      "name": "python"
    }
  },
  "cells": [
    {
      "cell_type": "markdown",
      "metadata": {
        "id": "view-in-github",
        "colab_type": "text"
      },
      "source": [
        "<a href=\"https://colab.research.google.com/github/lalithakre/NLP-Sentiment-Analysis/blob/main/(NLP)Sentiment_analysis.ipynb\" target=\"_parent\"><img src=\"https://colab.research.google.com/assets/colab-badge.svg\" alt=\"Open In Colab\"/></a>"
      ]
    },
    {
      "cell_type": "markdown",
      "source": [
        "Downloading word embedding\n"
      ],
      "metadata": {
        "id": "Wd9p0cmUekY-"
      }
    },
    {
      "cell_type": "markdown",
      "source": [
        "Paragraph ko sentences\n",
        "sentences ko words\n",
        "words ko base word mai like...given ko give mai\n",
        "stop words remove karna..like comma \n",
        "padding.. means joh"
      ],
      "metadata": {
        "id": "YG_NZEs_iBRQ"
      }
    },
    {
      "cell_type": "code",
      "source": [
        "!wget http://downloads.cs.stanford.edu/nlp/data/glove.6B.zip"
      ],
      "metadata": {
        "colab": {
          "base_uri": "https://localhost:8080/"
        },
        "id": "K9Zf1fNyPRia",
        "outputId": "0cbf597a-5edb-4cbf-8209-41bb441362c1"
      },
      "execution_count": null,
      "outputs": [
        {
          "output_type": "stream",
          "name": "stdout",
          "text": [
            "--2023-01-11 08:51:41--  http://downloads.cs.stanford.edu/nlp/data/glove.6B.zip\n",
            "Resolving downloads.cs.stanford.edu (downloads.cs.stanford.edu)... 171.64.64.22\n",
            "Connecting to downloads.cs.stanford.edu (downloads.cs.stanford.edu)|171.64.64.22|:80... connected.\n",
            "HTTP request sent, awaiting response... 200 OK\n",
            "Length: 862182613 (822M) [application/zip]\n",
            "Saving to: ‘glove.6B.zip’\n",
            "\n",
            "glove.6B.zip        100%[===================>] 822.24M  5.04MB/s    in 2m 40s  \n",
            "\n",
            "2023-01-11 08:54:21 (5.12 MB/s) - ‘glove.6B.zip’ saved [862182613/862182613]\n",
            "\n"
          ]
        }
      ]
    },
    {
      "cell_type": "code",
      "source": [
        "!unzip glove.6B.zip"
      ],
      "metadata": {
        "colab": {
          "base_uri": "https://localhost:8080/"
        },
        "id": "jcKVL177QPF6",
        "outputId": "06016186-b215-4a34-ab20-51500e6bfd8c"
      },
      "execution_count": null,
      "outputs": [
        {
          "output_type": "stream",
          "name": "stdout",
          "text": [
            "Archive:  glove.6B.zip\n",
            "  inflating: glove.6B.50d.txt        \n",
            "  inflating: glove.6B.100d.txt       \n",
            "  inflating: glove.6B.200d.txt       \n",
            "  inflating: glove.6B.300d.txt       \n"
          ]
        }
      ]
    },
    {
      "cell_type": "markdown",
      "source": [
        "creating data frame\n"
      ],
      "metadata": {
        "id": "l_l1M4jFruWE"
      }
    },
    {
      "cell_type": "code",
      "source": [
        "import pandas as pd\n",
        "data=[['the restaurant is awesome',1],\n",
        "      ['the food is so oily and spicy',0],\n",
        "      ['food is ok',1]\n",
        "      ]\n",
        "df=pd.DataFrame(data,columns=['review','sentiment'])\n",
        "df"
      ],
      "metadata": {
        "colab": {
          "base_uri": "https://localhost:8080/",
          "height": 143
        },
        "id": "KTFxeyUrqzKP",
        "outputId": "29df2389-afd1-4bc4-a056-03358be192b5"
      },
      "execution_count": null,
      "outputs": [
        {
          "output_type": "execute_result",
          "data": {
            "text/plain": [
              "                          review  sentiment\n",
              "0      the restaurant is awesome          1\n",
              "1  the food is so oily and spicy          0\n",
              "2                     food is ok          1"
            ],
            "text/html": [
              "\n",
              "  <div id=\"df-482463b8-8248-484b-bf62-09c18c503be4\">\n",
              "    <div class=\"colab-df-container\">\n",
              "      <div>\n",
              "<style scoped>\n",
              "    .dataframe tbody tr th:only-of-type {\n",
              "        vertical-align: middle;\n",
              "    }\n",
              "\n",
              "    .dataframe tbody tr th {\n",
              "        vertical-align: top;\n",
              "    }\n",
              "\n",
              "    .dataframe thead th {\n",
              "        text-align: right;\n",
              "    }\n",
              "</style>\n",
              "<table border=\"1\" class=\"dataframe\">\n",
              "  <thead>\n",
              "    <tr style=\"text-align: right;\">\n",
              "      <th></th>\n",
              "      <th>review</th>\n",
              "      <th>sentiment</th>\n",
              "    </tr>\n",
              "  </thead>\n",
              "  <tbody>\n",
              "    <tr>\n",
              "      <th>0</th>\n",
              "      <td>the restaurant is awesome</td>\n",
              "      <td>1</td>\n",
              "    </tr>\n",
              "    <tr>\n",
              "      <th>1</th>\n",
              "      <td>the food is so oily and spicy</td>\n",
              "      <td>0</td>\n",
              "    </tr>\n",
              "    <tr>\n",
              "      <th>2</th>\n",
              "      <td>food is ok</td>\n",
              "      <td>1</td>\n",
              "    </tr>\n",
              "  </tbody>\n",
              "</table>\n",
              "</div>\n",
              "      <button class=\"colab-df-convert\" onclick=\"convertToInteractive('df-482463b8-8248-484b-bf62-09c18c503be4')\"\n",
              "              title=\"Convert this dataframe to an interactive table.\"\n",
              "              style=\"display:none;\">\n",
              "        \n",
              "  <svg xmlns=\"http://www.w3.org/2000/svg\" height=\"24px\"viewBox=\"0 0 24 24\"\n",
              "       width=\"24px\">\n",
              "    <path d=\"M0 0h24v24H0V0z\" fill=\"none\"/>\n",
              "    <path d=\"M18.56 5.44l.94 2.06.94-2.06 2.06-.94-2.06-.94-.94-2.06-.94 2.06-2.06.94zm-11 1L8.5 8.5l.94-2.06 2.06-.94-2.06-.94L8.5 2.5l-.94 2.06-2.06.94zm10 10l.94 2.06.94-2.06 2.06-.94-2.06-.94-.94-2.06-.94 2.06-2.06.94z\"/><path d=\"M17.41 7.96l-1.37-1.37c-.4-.4-.92-.59-1.43-.59-.52 0-1.04.2-1.43.59L10.3 9.45l-7.72 7.72c-.78.78-.78 2.05 0 2.83L4 21.41c.39.39.9.59 1.41.59.51 0 1.02-.2 1.41-.59l7.78-7.78 2.81-2.81c.8-.78.8-2.07 0-2.86zM5.41 20L4 18.59l7.72-7.72 1.47 1.35L5.41 20z\"/>\n",
              "  </svg>\n",
              "      </button>\n",
              "      \n",
              "  <style>\n",
              "    .colab-df-container {\n",
              "      display:flex;\n",
              "      flex-wrap:wrap;\n",
              "      gap: 12px;\n",
              "    }\n",
              "\n",
              "    .colab-df-convert {\n",
              "      background-color: #E8F0FE;\n",
              "      border: none;\n",
              "      border-radius: 50%;\n",
              "      cursor: pointer;\n",
              "      display: none;\n",
              "      fill: #1967D2;\n",
              "      height: 32px;\n",
              "      padding: 0 0 0 0;\n",
              "      width: 32px;\n",
              "    }\n",
              "\n",
              "    .colab-df-convert:hover {\n",
              "      background-color: #E2EBFA;\n",
              "      box-shadow: 0px 1px 2px rgba(60, 64, 67, 0.3), 0px 1px 3px 1px rgba(60, 64, 67, 0.15);\n",
              "      fill: #174EA6;\n",
              "    }\n",
              "\n",
              "    [theme=dark] .colab-df-convert {\n",
              "      background-color: #3B4455;\n",
              "      fill: #D2E3FC;\n",
              "    }\n",
              "\n",
              "    [theme=dark] .colab-df-convert:hover {\n",
              "      background-color: #434B5C;\n",
              "      box-shadow: 0px 1px 3px 1px rgba(0, 0, 0, 0.15);\n",
              "      filter: drop-shadow(0px 1px 2px rgba(0, 0, 0, 0.3));\n",
              "      fill: #FFFFFF;\n",
              "    }\n",
              "  </style>\n",
              "\n",
              "      <script>\n",
              "        const buttonEl =\n",
              "          document.querySelector('#df-482463b8-8248-484b-bf62-09c18c503be4 button.colab-df-convert');\n",
              "        buttonEl.style.display =\n",
              "          google.colab.kernel.accessAllowed ? 'block' : 'none';\n",
              "\n",
              "        async function convertToInteractive(key) {\n",
              "          const element = document.querySelector('#df-482463b8-8248-484b-bf62-09c18c503be4');\n",
              "          const dataTable =\n",
              "            await google.colab.kernel.invokeFunction('convertToInteractive',\n",
              "                                                     [key], {});\n",
              "          if (!dataTable) return;\n",
              "\n",
              "          const docLinkHtml = 'Like what you see? Visit the ' +\n",
              "            '<a target=\"_blank\" href=https://colab.research.google.com/notebooks/data_table.ipynb>data table notebook</a>'\n",
              "            + ' to learn more about interactive tables.';\n",
              "          element.innerHTML = '';\n",
              "          dataTable['output_type'] = 'display_data';\n",
              "          await google.colab.output.renderOutput(dataTable, element);\n",
              "          const docLink = document.createElement('div');\n",
              "          docLink.innerHTML = docLinkHtml;\n",
              "          element.appendChild(docLink);\n",
              "        }\n",
              "      </script>\n",
              "    </div>\n",
              "  </div>\n",
              "  "
            ]
          },
          "metadata": {},
          "execution_count": 4
        }
      ]
    },
    {
      "cell_type": "code",
      "source": [
        "def add_to_dict(filename,d):\n",
        "  import numpy as np \n",
        "  with open(filename,'r') as f:\n",
        "    for line in f.readlines(): #ek file ki ek ek line ko read karta hai... \n",
        "      l=line.split(' ')\n",
        "      d[l[0]]=np.array(l[1:],dtype='float')\n",
        "      "
      ],
      "metadata": {
        "id": "GCYPAC3NQ0US"
      },
      "execution_count": null,
      "outputs": []
    },
    {
      "cell_type": "code",
      "source": [
        "dics={}\n",
        "add_to_dict('glove.6B.50d.txt', dics)\n"
      ],
      "metadata": {
        "id": "SkQMdlGyTxlL"
      },
      "execution_count": null,
      "outputs": []
    },
    {
      "cell_type": "code",
      "source": [
        "dics['given']"
      ],
      "metadata": {
        "colab": {
          "base_uri": "https://localhost:8080/"
        },
        "id": "t3V6rrOfUPyg",
        "outputId": "b3087c18-b28c-4f4c-f272-2e6037327b96"
      },
      "execution_count": null,
      "outputs": [
        {
          "output_type": "execute_result",
          "data": {
            "text/plain": [
              "array([ 0.43768  ,  0.5543   , -0.27591  , -0.36805  ,  0.82612  ,\n",
              "        0.14132  , -0.0063327,  0.17197  , -0.0042713,  0.14954  ,\n",
              "        0.30217  ,  0.43632  ,  0.053702 , -0.59632  ,  0.64761  ,\n",
              "       -0.024799 , -0.016603 , -0.40788  , -0.24985  , -0.58336  ,\n",
              "       -0.13173  , -0.18747  ,  0.26913  , -0.25625  ,  0.021073 ,\n",
              "       -1.6454   , -0.53461  , -0.12627  , -0.09779  ,  0.2995   ,\n",
              "        3.3942   ,  0.19733  , -0.31749  , -0.62559  ,  0.52945  ,\n",
              "        0.067728 ,  0.49578  ,  0.27542  , -0.35416  , -0.37977  ,\n",
              "        0.20921  ,  0.34261  , -0.32328  ,  0.53135  , -0.53123  ,\n",
              "       -0.39414  , -0.12909  ,  0.54714  ,  0.071181 ,  0.015065 ])"
            ]
          },
          "metadata": {},
          "execution_count": 7
        }
      ]
    },
    {
      "cell_type": "code",
      "source": [
        "# sentences=['this is my favourite restaurant',\n",
        "#           'i like to eat burger in this restaurant'\n",
        "#           'food is so spicy not eatable',\n",
        "#            'food is ok']\n",
        "# sentiment=['positive','positive','negetive','nutral'] # 3 classes"
      ],
      "metadata": {
        "id": "mgRFuhNdi6mw"
      },
      "execution_count": null,
      "outputs": []
    },
    {
      "cell_type": "code",
      "source": [
        "import nltk #natural language tool kit\n",
        "nltk.download('punkt')\n",
        "nltk.download('wordnet')\n",
        "nltk.download('omw-1.4')\n",
        "\n",
        "# words=[]\n",
        "# for i in sentences:\n",
        "#   p=word_tokenize(i)\n",
        "#   print(p)\n",
        "\n",
        "\n"
      ],
      "metadata": {
        "id": "HqM6ewWKUsh_",
        "colab": {
          "base_uri": "https://localhost:8080/"
        },
        "outputId": "1ff2e9cf-dad2-4e50-bf51-a473e113a5f6"
      },
      "execution_count": null,
      "outputs": [
        {
          "output_type": "stream",
          "name": "stderr",
          "text": [
            "[nltk_data] Downloading package punkt to /root/nltk_data...\n",
            "[nltk_data]   Unzipping tokenizers/punkt.zip.\n",
            "[nltk_data] Downloading package wordnet to /root/nltk_data...\n",
            "[nltk_data] Downloading package omw-1.4 to /root/nltk_data...\n"
          ]
        },
        {
          "output_type": "execute_result",
          "data": {
            "text/plain": [
              "True"
            ]
          },
          "metadata": {},
          "execution_count": 9
        }
      ]
    },
    {
      "cell_type": "code",
      "source": [
        "from nltk.stem import WordNetLemmatizer\n",
        "from nltk.tokenize import word_tokenize # sentence ko words mai tood denge...sent_tokenuze..para ko sent mai...\n",
        "Lemmatizer=WordNetLemmatizer()\n"
      ],
      "metadata": {
        "id": "2V7-hQuhjAR3"
      },
      "execution_count": null,
      "outputs": []
    },
    {
      "cell_type": "code",
      "source": [
        "def message_to_tokenslist(s):\n",
        "  tokens=word_tokenize(s)\n",
        "  lower_case = [t.lower() for t in tokens] #lower case mai laaya..\n",
        "  lemm=[Lemmatizer.lemmatize(t) for t in lower_case] # base form mai laya..\n",
        "  usefultokens=[t for t in lemm if t in dics]  # useful tokens joh dics mai hai.\n",
        "  return usefultokens\n"
      ],
      "metadata": {
        "id": "M1mt1cu-kiui"
      },
      "execution_count": null,
      "outputs": []
    },
    {
      "cell_type": "code",
      "source": [
        "# message_to_tokenslist(' I Am so happy at  sistec',dics)"
      ],
      "metadata": {
        "id": "PmoFRSPVmR65"
      },
      "execution_count": null,
      "outputs": []
    },
    {
      "cell_type": "code",
      "source": [
        "import numpy as np\n",
        "\n",
        "def message_to_vector(s,dics):\n",
        "   usefultokens=message_to_tokenslist(s)\n",
        "   vector=[]\n",
        "   for token in usefultokens:\n",
        "     if token not in dics:\n",
        "       continue\n",
        "     else:\n",
        "       q=dics[token]\n",
        "       vector.append(q)\n",
        "   return np.array(vector,dtype='float')\n",
        "\n"
      ],
      "metadata": {
        "id": "rLW1OxxJn3Ww"
      },
      "execution_count": null,
      "outputs": []
    },
    {
      "cell_type": "code",
      "source": [
        "a=message_to_vector('hello how are you',dics)\n",
        "a.shape"
      ],
      "metadata": {
        "colab": {
          "base_uri": "https://localhost:8080/"
        },
        "id": "fZgkt7CHpq7m",
        "outputId": "cdbbd149-83bb-41c4-a72f-26d58ea5e488"
      },
      "execution_count": null,
      "outputs": [
        {
          "output_type": "execute_result",
          "data": {
            "text/plain": [
              "(4, 50)"
            ]
          },
          "metadata": {},
          "execution_count": 15
        }
      ]
    },
    {
      "cell_type": "code",
      "source": [
        "def df_to_x_y(df,dics):\n",
        "  y=df['sentiment'].to_numpy().astype('int') \n",
        "  x=[]\n",
        "  for message in df['review']:\n",
        "    message_in_metrix=message_to_vector(message,dics)\n",
        "    x.append(message_in_metrix)\n",
        "  return x,y \n"
      ],
      "metadata": {
        "id": "q8tnD0JzqLcd"
      },
      "execution_count": null,
      "outputs": []
    },
    {
      "cell_type": "code",
      "source": [
        "from  copy import deepcopy   # ek ka change doosre mai nhi aayega..bcoz of deepcopy\n",
        "import numpy as np\n",
        "def pad_x(x,length):\n",
        "  x_copy=[]\n",
        "  for i in x:\n",
        "    difference=length-i.shape[0]\n",
        "    pad=np.zeros(shape=(difference,50))\n",
        "    x_copy.append(np.concatenate([i,pad]))\n",
        "\n",
        "  return  np.array(x_copy)"
      ],
      "metadata": {
        "id": "9XLFdYnsttuH"
      },
      "execution_count": null,
      "outputs": []
    },
    {
      "cell_type": "code",
      "source": [
        "x,y=df_to_x_y(df,dics)"
      ],
      "metadata": {
        "id": "g307iVedxnPh"
      },
      "execution_count": null,
      "outputs": []
    },
    {
      "cell_type": "code",
      "source": [
        "xarr=pad_x(x,7)\n",
        "xarr.shape"
      ],
      "metadata": {
        "colab": {
          "base_uri": "https://localhost:8080/"
        },
        "id": "MC6jiPiXyFDt",
        "outputId": "e1c0ef09-5ca5-4d8d-f648-a1f39b4d4cbf"
      },
      "execution_count": null,
      "outputs": [
        {
          "output_type": "execute_result",
          "data": {
            "text/plain": [
              "(3, 7, 50)"
            ]
          },
          "metadata": {},
          "execution_count": 20
        }
      ]
    },
    {
      "cell_type": "code",
      "source": [
        "from keras.models import Sequential\n",
        "\n",
        "model=Sequential()\n",
        "from keras.layers import Dense,LSTM,Dropout,Input\n",
        "model.add(Input(shape=(7,50)))\n",
        "model.add(LSTM(64,activation='relu',return_sequences=True))\n",
        "model.add(Dropout(0.2))\n",
        "model.add(LSTM(64,activation='relu',return_sequences=False))\n",
        "model.add(Dropout(0.2)) #kitne nurons ko stop karna hai..\n",
        "model.add(Dense(1,activation='sigmoid'))# binary classification\n",
        "model.compile(optimizer='adam',loss='binary_crossentropy',metrics=['accuracy'])\n",
        "model.fit(xarr,y,epochs=10)\n"
      ],
      "metadata": {
        "colab": {
          "base_uri": "https://localhost:8080/"
        },
        "id": "UTG3x8QqzDcy",
        "outputId": "c40bc9f5-1507-4a29-b4f4-77d73b435eb1"
      },
      "execution_count": null,
      "outputs": [
        {
          "output_type": "stream",
          "name": "stdout",
          "text": [
            "Epoch 1/10\n",
            "1/1 [==============================] - 3s 3s/step - loss: 0.6928 - accuracy: 0.6667\n",
            "Epoch 2/10\n",
            "1/1 [==============================] - 0s 20ms/step - loss: 0.6909 - accuracy: 0.6667\n",
            "Epoch 3/10\n",
            "1/1 [==============================] - 0s 17ms/step - loss: 0.6959 - accuracy: 0.6667\n",
            "Epoch 4/10\n",
            "1/1 [==============================] - 0s 22ms/step - loss: 0.6620 - accuracy: 0.6667\n",
            "Epoch 5/10\n",
            "1/1 [==============================] - 0s 14ms/step - loss: 0.6540 - accuracy: 1.0000\n",
            "Epoch 6/10\n",
            "1/1 [==============================] - 0s 24ms/step - loss: 0.6533 - accuracy: 1.0000\n",
            "Epoch 7/10\n",
            "1/1 [==============================] - 0s 23ms/step - loss: 0.6529 - accuracy: 0.6667\n",
            "Epoch 8/10\n",
            "1/1 [==============================] - 0s 18ms/step - loss: 0.6493 - accuracy: 0.6667\n",
            "Epoch 9/10\n",
            "1/1 [==============================] - 0s 17ms/step - loss: 0.6291 - accuracy: 0.6667\n",
            "Epoch 10/10\n",
            "1/1 [==============================] - 0s 19ms/step - loss: 0.6128 - accuracy: 1.0000\n"
          ]
        },
        {
          "output_type": "execute_result",
          "data": {
            "text/plain": [
              "<keras.callbacks.History at 0x7f4e9d914040>"
            ]
          },
          "metadata": {},
          "execution_count": 21
        }
      ]
    },
    {
      "cell_type": "code",
      "source": [
        "o=model.predict(xarr)\n",
        "o>0.5"
      ],
      "metadata": {
        "colab": {
          "base_uri": "https://localhost:8080/"
        },
        "id": "D2oDOnAE3T8D",
        "outputId": "bb62782a-1a1e-4d57-d84d-9ff13df77ca6"
      },
      "execution_count": null,
      "outputs": [
        {
          "output_type": "stream",
          "name": "stdout",
          "text": [
            "1/1 [==============================] - 0s 285ms/step\n"
          ]
        },
        {
          "output_type": "execute_result",
          "data": {
            "text/plain": [
              "array([[ True],\n",
              "       [False],\n",
              "       [ True]])"
            ]
          },
          "metadata": {},
          "execution_count": 22
        }
      ]
    },
    {
      "cell_type": "code",
      "source": [],
      "metadata": {
        "id": "9GGtqcvT_pS-"
      },
      "execution_count": null,
      "outputs": []
    }
  ]
}